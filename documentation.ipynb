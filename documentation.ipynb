{
 "cells": [
  {
   "cell_type": "markdown",
   "id": "5ffc4d59",
   "metadata": {},
   "source": [
    "# Documentation"
   ]
  },
  {
   "cell_type": "markdown",
   "id": "cf504fa0",
   "metadata": {},
   "source": [
    "## Dataset\n",
    "\n",
    "The dataset was generated using ChatGPT, following the format provided in the email.\n",
    "\n",
    "I took some liberties myself. I think that the dataset will be better if it has a column for menu.\n",
    "\n",
    "The dataset provided by ChatGPT is then saved as a CSV"
   ]
  },
  {
   "cell_type": "markdown",
   "id": "2f312777",
   "metadata": {},
   "source": [
    "# General Message\n",
    "\n",
    "For this project, I decided to go with local models. I believe that cloud models can easily be implemented as the logic would still remain the same but will have superior performance compared to what I have.\n",
    "\n",
    "I made this project in my laptop with the following specs\n",
    "\n",
    "Processor: i5 12500H\n",
    "RAM: 16GB\n",
    "GPU RTX3060 Laptop GPU\n",
    "VRAM: 6GB\n",
    "\n",
    "To Setup\n",
    "\n",
    "1. Make sure Ollama is installed. Ollama can be found at\n",
    "2. Download Gemma3:1b model. The command is \n",
    "3. Download nomic: The command is\n",
    "\n",
    "\n",
    "Gemma3 will be the LLM. Nomic will be the embedder"
   ]
  },
  {
   "cell_type": "markdown",
   "id": "b6879172",
   "metadata": {},
   "source": [
    "## Embedding"
   ]
  },
  {
   "cell_type": "markdown",
   "id": "fe0a5b15",
   "metadata": {},
   "source": [
    "Below is the explanation of the embedding script"
   ]
  },
  {
   "cell_type": "markdown",
   "id": "aa86b58c",
   "metadata": {},
   "source": [
    "Importing necessary packages"
   ]
  },
  {
   "cell_type": "markdown",
   "id": "233cce1d",
   "metadata": {},
   "source": [
    "Defining functions"
   ]
  },
  {
   "cell_type": "markdown",
   "id": "0a38aa57",
   "metadata": {},
   "source": [
    "Line chunk function chunks the csv to their respective rows, limiting the infomration to said row only"
   ]
  },
  {
   "cell_type": "markdown",
   "id": "2d8fc2ef",
   "metadata": {},
   "source": [
    "Get embed function takes in the chunk and run it through nomic. this should return a list of 768 numbers which is the embedding for said chunk. the function is built so that it takes in the chunk list and returns a list of embedding"
   ]
  },
  {
   "cell_type": "markdown",
   "id": "ff609468",
   "metadata": {},
   "source": [
    "store embed json stores the list of embeddings into a json file so that you won't have to perform the calculation over and over again"
   ]
  },
  {
   "cell_type": "code",
   "execution_count": null,
   "id": "ec8a04bc",
   "metadata": {
    "vscode": {
     "languageId": "plaintext"
    }
   },
   "outputs": [],
   "source": []
  },
  {
   "cell_type": "markdown",
   "id": "e2331601",
   "metadata": {},
   "source": []
  }
 ],
 "metadata": {
  "language_info": {
   "name": "python"
  }
 },
 "nbformat": 4,
 "nbformat_minor": 5
}
